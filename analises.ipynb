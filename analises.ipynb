{
 "cells": [
  {
   "cell_type": "code",
   "execution_count": 3,
   "metadata": {},
   "outputs": [],
   "source": [
    "import pandas as pd\n",
    "import numpy as np\n",
    "import matplotlib.pyplot as plt"
   ]
  },
  {
   "cell_type": "code",
   "execution_count": 50,
   "metadata": {},
   "outputs": [],
   "source": [
    "corredores = pd.read_csv('corredores.csv')\n",
    "corridas = pd.read_csv('corridas.csv')\n"
   ]
  },
  {
   "cell_type": "code",
   "execution_count": 12,
   "metadata": {},
   "outputs": [
    {
     "data": {
      "text/html": [
       "<div>\n",
       "<style scoped>\n",
       "    .dataframe tbody tr th:only-of-type {\n",
       "        vertical-align: middle;\n",
       "    }\n",
       "\n",
       "    .dataframe tbody tr th {\n",
       "        vertical-align: top;\n",
       "    }\n",
       "\n",
       "    .dataframe thead th {\n",
       "        text-align: right;\n",
       "    }\n",
       "</style>\n",
       "<table border=\"1\" class=\"dataframe\">\n",
       "  <thead>\n",
       "    <tr style=\"text-align: right;\">\n",
       "      <th></th>\n",
       "      <th>corredores.id-corredor</th>\n",
       "      <th>corredores.ageGroup</th>\n",
       "      <th>corredores.fullname</th>\n",
       "      <th>corredores.uri</th>\n",
       "      <th>corredores.nationality</th>\n",
       "      <th>corredores.sex</th>\n",
       "      <th>corredores.Club</th>\n",
       "      <th>corredores.Team</th>\n",
       "      <th>corredores.Sponsor(s)</th>\n",
       "      <th>corredores.Description</th>\n",
       "      <th>corredores.Geral</th>\n",
       "      <th>corredores.20K</th>\n",
       "      <th>corredores.50K</th>\n",
       "      <th>corredores.100K</th>\n",
       "      <th>corredores.100m</th>\n",
       "    </tr>\n",
       "  </thead>\n",
       "  <tbody>\n",
       "    <tr>\n",
       "      <th>0</th>\n",
       "      <td>5444</td>\n",
       "      <td>65-69</td>\n",
       "      <td>Michael John DE FREITAS</td>\n",
       "      <td>5444.michaeljohn.defreitas</td>\n",
       "      <td>BR</td>\n",
       "      <td>H</td>\n",
       "      <td>NaN</td>\n",
       "      <td>NaN</td>\n",
       "      <td>NaN</td>\n",
       "      <td>NaN</td>\n",
       "      <td>341.0</td>\n",
       "      <td>NaN</td>\n",
       "      <td>341.0</td>\n",
       "      <td>NaN</td>\n",
       "      <td>NaN</td>\n",
       "    </tr>\n",
       "    <tr>\n",
       "      <th>1</th>\n",
       "      <td>12619</td>\n",
       "      <td>40-44</td>\n",
       "      <td>Fernanda MACIEL</td>\n",
       "      <td>12619.fernanda.maciel</td>\n",
       "      <td>BR</td>\n",
       "      <td>F</td>\n",
       "      <td>NaN</td>\n",
       "      <td>NaN</td>\n",
       "      <td>The North Face</td>\n",
       "      <td>NaN</td>\n",
       "      <td>585.0</td>\n",
       "      <td>NaN</td>\n",
       "      <td>586.0</td>\n",
       "      <td>NaN</td>\n",
       "      <td>NaN</td>\n",
       "    </tr>\n",
       "    <tr>\n",
       "      <th>2</th>\n",
       "      <td>20086</td>\n",
       "      <td>55-59</td>\n",
       "      <td>Andre ARRUDA</td>\n",
       "      <td>20086.andre.arruda</td>\n",
       "      <td>BR</td>\n",
       "      <td>H</td>\n",
       "      <td>NaN</td>\n",
       "      <td>NaN</td>\n",
       "      <td>NaN</td>\n",
       "      <td>NaN</td>\n",
       "      <td>NaN</td>\n",
       "      <td>NaN</td>\n",
       "      <td>NaN</td>\n",
       "      <td>NaN</td>\n",
       "      <td>NaN</td>\n",
       "    </tr>\n",
       "    <tr>\n",
       "      <th>3</th>\n",
       "      <td>20087</td>\n",
       "      <td>50-54</td>\n",
       "      <td>Ribeiro SANTOS-DECIO</td>\n",
       "      <td>20087.ribeiro.santosdecio</td>\n",
       "      <td>BR</td>\n",
       "      <td>H</td>\n",
       "      <td>NaN</td>\n",
       "      <td>NaN</td>\n",
       "      <td>NaN</td>\n",
       "      <td>NaN</td>\n",
       "      <td>NaN</td>\n",
       "      <td>NaN</td>\n",
       "      <td>NaN</td>\n",
       "      <td>NaN</td>\n",
       "      <td>NaN</td>\n",
       "    </tr>\n",
       "    <tr>\n",
       "      <th>4</th>\n",
       "      <td>20839</td>\n",
       "      <td>50-54</td>\n",
       "      <td>Adriano BURAGAS</td>\n",
       "      <td>20839.adriano.buragas</td>\n",
       "      <td>BR</td>\n",
       "      <td>H</td>\n",
       "      <td>NaN</td>\n",
       "      <td>NaN</td>\n",
       "      <td>NaN</td>\n",
       "      <td>NaN</td>\n",
       "      <td>NaN</td>\n",
       "      <td>NaN</td>\n",
       "      <td>NaN</td>\n",
       "      <td>NaN</td>\n",
       "      <td>NaN</td>\n",
       "    </tr>\n",
       "  </tbody>\n",
       "</table>\n",
       "</div>"
      ],
      "text/plain": [
       "   corredores.id-corredor corredores.ageGroup      corredores.fullname  \\\n",
       "0                    5444               65-69  Michael John DE FREITAS   \n",
       "1                   12619               40-44          Fernanda MACIEL   \n",
       "2                   20086               55-59             Andre ARRUDA   \n",
       "3                   20087               50-54     Ribeiro SANTOS-DECIO   \n",
       "4                   20839               50-54          Adriano BURAGAS   \n",
       "\n",
       "               corredores.uri corredores.nationality corredores.sex  \\\n",
       "0  5444.michaeljohn.defreitas                     BR              H   \n",
       "1       12619.fernanda.maciel                     BR              F   \n",
       "2          20086.andre.arruda                     BR              H   \n",
       "3   20087.ribeiro.santosdecio                     BR              H   \n",
       "4       20839.adriano.buragas                     BR              H   \n",
       "\n",
       "  corredores.Club corredores.Team corredores.Sponsor(s)  \\\n",
       "0             NaN             NaN                   NaN   \n",
       "1             NaN             NaN        The North Face   \n",
       "2             NaN             NaN                   NaN   \n",
       "3             NaN             NaN                   NaN   \n",
       "4             NaN             NaN                   NaN   \n",
       "\n",
       "   corredores.Description  corredores.Geral  corredores.20K  corredores.50K  \\\n",
       "0                     NaN             341.0             NaN           341.0   \n",
       "1                     NaN             585.0             NaN           586.0   \n",
       "2                     NaN               NaN             NaN             NaN   \n",
       "3                     NaN               NaN             NaN             NaN   \n",
       "4                     NaN               NaN             NaN             NaN   \n",
       "\n",
       "   corredores.100K  corredores.100m  \n",
       "0              NaN              NaN  \n",
       "1              NaN              NaN  \n",
       "2              NaN              NaN  \n",
       "3              NaN              NaN  \n",
       "4              NaN              NaN  "
      ]
     },
     "execution_count": 12,
     "metadata": {},
     "output_type": "execute_result"
    }
   ],
   "source": [
    "corredores.head()"
   ]
  },
  {
   "cell_type": "code",
   "execution_count": 23,
   "metadata": {},
   "outputs": [],
   "source": [
    "corredores_idade = corredores['corredores.ageGroup']\n",
    "tabela_idade = corredores_idade.value_counts()\n",
    "tabela_idade['0-20'] = tabela_idade['U18'] + tabela_idade['U20']\n",
    "tabela_idade = tabela_idade.drop(['U18', 'U20'])\n",
    "tabela_idade = tabela_idade.sort_index()"
   ]
  },
  {
   "cell_type": "code",
   "execution_count": 37,
   "metadata": {},
   "outputs": [],
   "source": [
    "azul_claro = '#73BFA7'\n",
    "azul_escuro = '#3494BA'"
   ]
  },
  {
   "cell_type": "code",
   "execution_count": 42,
   "metadata": {},
   "outputs": [
    {
     "data": {
      "image/png": "[encoded data removed]",
      "text/plain": [
       "<Figure size 1000x600 with 1 Axes>"
      ]
     },
     "metadata": {},
     "output_type": "display_data"
    }
   ],
   "source": [
    "tabela_idade.plot(kind='bar', color=azul_escuro, xlabel='Faixa de idade', ylabel='Quantidade de corredores', title='Quantidade de corredores brasileiros por faixa de idade', figsize=(10, 6))\n",
    "plt.show()"
   ]
  },
  {
   "cell_type": "code",
   "execution_count": 48,
   "metadata": {},
   "outputs": [],
   "source": [
    "corridas_br = pd.read_csv('corridas_brasileiras.csv')"
   ]
  },
  {
   "cell_type": "code",
   "execution_count": 49,
   "metadata": {},
   "outputs": [
    {
     "name": "stdout",
     "output_type": "stream",
     "text": [
      "0         41\n",
      "1         42\n",
      "2        401\n",
      "3        402\n",
      "4        877\n",
      "       ...  \n",
      "436    77742\n",
      "437    77744\n",
      "438    79602\n",
      "439    94566\n",
      "440    94568\n",
      "Name: corridas.id-corrida, Length: 441, dtype: int64\n"
     ]
    }
   ],
   "source": [
    "ids = corridas_br['corridas.id-corrida']\n",
    "print(ids)"
   ]
  },
  {
   "cell_type": "code",
   "execution_count": null,
   "metadata": {},
   "outputs": [],
   "source": []
  }
 ],
 "metadata": {
  "kernelspec": {
   "display_name": ".venv",
   "language": "python",
   "name": "python3"
  },
  "language_info": {
   "codemirror_mode": {
    "name": "ipython",
    "version": 3
   },
   "file_extension": ".py",
   "mimetype": "text/x-python",
   "name": "python",
   "nbconvert_exporter": "python",
   "pygments_lexer": "ipython3",
   "version": "3.11.4"
  }
 },
 "nbformat": 4,
 "nbformat_minor": 2
}

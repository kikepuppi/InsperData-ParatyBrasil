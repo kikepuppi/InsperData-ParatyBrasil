{
 "cells": [
  {
   "cell_type": "code",
   "execution_count": null,
   "metadata": {},
   "outputs": [],
   "source": [
    "import pandas as pd\n",
    "import numpy as np\n",
    "import matplotlib.pyplot as plt\n",
    "import warnings\n",
    "warnings.filterwarnings(\"ignore\")"
   ]
  },
  {
   "cell_type": "code",
   "execution_count": null,
   "metadata": {},
   "outputs": [],
   "source": [
    "corredores = pd.read_csv('corredores.csv')\n",
    "corridas = pd.read_csv('corridas.csv')\n"
   ]
  },
  {
   "cell_type": "code",
   "execution_count": null,
   "metadata": {},
   "outputs": [],
   "source": [
    "corredores.head()"
   ]
  },
  {
   "cell_type": "code",
   "execution_count": null,
   "metadata": {},
   "outputs": [],
   "source": [
    "corredores_idade = corredores['ageGroup']\n",
    "tabela_idade = corredores_idade.value_counts()\n",
    "tabela_idade['0-20'] = tabela_idade['U18'] + tabela_idade['U20']\n",
    "tabela_idade = tabela_idade.drop(['U18', 'U20'])\n",
    "tabela_idade = tabela_idade.sort_index()"
   ]
  },
  {
   "cell_type": "code",
   "execution_count": null,
   "metadata": {},
   "outputs": [],
   "source": [
    "azul_claro = '#73BFA7'\n",
    "azul_escuro = '#3494BA'"
   ]
  },
  {
   "cell_type": "code",
   "execution_count": null,
   "metadata": {},
   "outputs": [],
   "source": [
    "tabela_idade.plot(kind='bar', color=azul_escuro, xlabel='Faixa de idade', ylabel='Quantidade de corredores', title='Quantidade de corredores brasileiros por faixa de idade', figsize=(10, 6))\n",
    "plt.show()"
   ]
  },
  {
   "cell_type": "code",
   "execution_count": null,
   "metadata": {},
   "outputs": [],
   "source": [
    "corridas_nao_br = pd.read_csv('corridas_nao_brasileiras.csv')\n",
    "corridas_nao_br.head()"
   ]
  },
  {
   "cell_type": "code",
   "execution_count": null,
   "metadata": {},
   "outputs": [],
   "source": [
    "corridas_nao_br['City / Country'].value_counts()"
   ]
  },
  {
   "cell_type": "code",
   "execution_count": null,
   "metadata": {},
   "outputs": [],
   "source": [
    "corridas_nao_br['City / Country'].value_counts(normalize=True).head(10).plot(kind='bar', color=azul_claro, xlabel='País', ylabel='Quantidade de corridas', title='Quantidade de corridas por país', figsize=(10, 6))\n",
    "plt.show()"
   ]
  },
  {
   "cell_type": "markdown",
   "metadata": {},
   "source": [
    "##   Corredores ativos (que correram nos últimos 3 meses) por faixa de idade"
   ]
  },
  {
   "cell_type": "code",
   "execution_count": null,
   "metadata": {},
   "outputs": [],
   "source": [
    "corredores_ativos = pd.read_csv('corredores_ativos.csv')"
   ]
  },
  {
   "cell_type": "code",
   "execution_count": null,
   "metadata": {},
   "outputs": [],
   "source": [
    "corredores_ativos_idade = corredores_ativos['corredores.ageGroup']\n",
    "tabela_idade_ca = corredores_ativos_idade.value_counts()\n",
    "tabela_idade_ca['0-20'] = tabela_idade_ca['U18'] + tabela_idade_ca['U20']\n",
    "tabela_idade_ca = tabela_idade_ca.drop(['U18', 'U20'])\n",
    "tabela_idade_ca = tabela_idade_ca.sort_index()"
   ]
  },
  {
   "cell_type": "code",
   "execution_count": null,
   "metadata": {},
   "outputs": [],
   "source": [
    "tabela_idade_ca.plot(kind='bar', color=azul_escuro, xlabel='Faixa de idade', ylabel='Quantidade de corredores', title='Quantidade de corredores brasileiros ativos por faixa de idade', figsize=(10, 6))\n",
    "plt.show()"
   ]
  },
  {
   "cell_type": "markdown",
   "metadata": {},
   "source": [
    "##   Corredores ativos (que correram nos últimos 3 meses) por sexo"
   ]
  },
  {
   "cell_type": "code",
   "execution_count": null,
   "metadata": {},
   "outputs": [],
   "source": [
    "corredores_ativos_sexo = corredores_ativos['corredores.sex']\n",
    "corredores_ativos_sexo.replace('H', 'Masculino', inplace=True)\n",
    "corredores_ativos_sexo.replace('F', 'Feminino', inplace=True)\n",
    "contagem_sexo = corredores_ativos_sexo.value_counts()\n",
    "\n",
    "contagem_sexo"
   ]
  },
  {
   "cell_type": "code",
   "execution_count": null,
   "metadata": {},
   "outputs": [],
   "source": [
    "cores = [azul_escuro, 'pink'] \n",
    "contagem = contagem_sexo.plot(kind='barh', color=cores, edgecolor='none')\n",
    "# plt.title('Corredores Ativos por Sexo')\n",
    "plt.xlabel('')\n",
    "plt.ylabel('')\n",
    "plt.xticks(rotation=0)\n",
    "for index, value in enumerate(contagem_sexo):\n",
    "    contagem.text(value, index, str(value))\n",
    "contagem.set_frame_on(False)\n",
    "contagem.set_xticks([])\n",
    "plt.show()"
   ]
  },
  {
   "cell_type": "code",
   "execution_count": null,
   "metadata": {},
   "outputs": [],
   "source": [
    "plt.figure(figsize=(8, 6))\n",
    "cores = [azul_escuro, 'pink']  \n",
    "plt.pie(contagem_sexo, colors=cores, autopct='%1.1f%%', startangle=90)\n",
    "# plt.title('Corredores Ativos por Sexo')\n",
    "plt.axis('equal') \n",
    "plt.show()"
   ]
  },
  {
   "cell_type": "code",
   "execution_count": null,
   "metadata": {},
   "outputs": [],
   "source": [
    "rc = pd.read_csv('corredores_agegroup_racecat.csv')"
   ]
  },
  {
   "cell_type": "code",
   "execution_count": null,
   "metadata": {},
   "outputs": [],
   "source": [
    "rc.Age_Group.value_counts()"
   ]
  },
  {
   "cell_type": "code",
   "execution_count": null,
   "metadata": {},
   "outputs": [],
   "source": [
    "list(rc['Age_Group'].value_counts().to_dict().keys())\n",
    "\n",
    "# Calculate the total count for each age group\n",
    "rc['Total_Count'] = rc.groupby('Age_Group')['Count'].transform('sum')\n",
    "\n",
    "# Calculate the percentage for each race category\n",
    "rc['Percentage'] = rc['Count'] / rc['Total_Count'] *100\n",
    "\n",
    "import pandas as pd\n",
    "\n",
    "# Define the desired order\n",
    "order = ['100M', '20K', '50K', '100K']\n",
    "\n",
    "# Convert the 'Race_Cat' column to categorical data type with the desired order\n",
    "rc['Race_Cat'] = pd.Categorical(rc['Race_Cat'], categories=order, ordered=True)\n",
    "\n",
    "# Sort the DataFrame by 'Age_Group' and 'Race_Cat'\n",
    "rc = rc.sort_values(['Age_Group', 'Race_Cat'])\n",
    "\n",
    "# Reset the index\n",
    "rc = rc.reset_index(drop=True)\n",
    "\n",
    "rc"
   ]
  },
  {
   "cell_type": "code",
   "execution_count": null,
   "metadata": {},
   "outputs": [],
   "source": [
    "import matplotlib.colors as mcolors\n",
    "\n",
    "# Create a figure and subplots for each age group\n",
    "fig, axs = plt.subplots(2, 6, figsize=(25, 10))\n",
    "\n",
    "# Define the start and end colors\n",
    "color_start = mcolors.to_rgb('#2383c6')\n",
    "color_end = mcolors.to_rgb('#75bda5')\n",
    "\n",
    "# Create a colormap with a gradient from color_start to color_end\n",
    "cmap = mcolors.LinearSegmentedColormap.from_list('gradient', [color_start, color_end])\n",
    "\n",
    "# Define the translated labels for the x-axis\n",
    "x_labels = ['100M', '20K', '50K', '100K']\n",
    "\n",
    "# Iterate over each age group\n",
    "for i, age_group in enumerate(rc['Age_Group'].unique()):\n",
    "    # Filter the data for the current age group\n",
    "    age_group_data = rc[rc['Age_Group'] == age_group]\n",
    "    \n",
    "    # Plot the graph for the current age group\n",
    "    axs[i//6, i%6].bar(age_group_data['Race_Cat'], age_group_data['Percentage'], color=cmap(i/len(rc['Age_Group'].unique())))\n",
    "    axs[i//6, i%6].set_xlabel('Categoria de Corrida', size=10)\n",
    "    axs[i//6, i%6].set_ylabel('Porcentagem de Corridas', size=10)\n",
    "    axs[i//6, i%6].set_title(f'Gráfico para Faixa Etária: {age_group}', size=15)\n",
    "    \n",
    "    # Set the x-axis labels and tick positions\n",
    "    axs[i//6, i%6].set_xticklabels(x_labels)\n",
    "    axs[i//6, i%6].set_xticks(range(len(x_labels)))\n",
    "\n",
    "# Adjust the spacing between subplots\n",
    "plt.tight_layout()\n",
    "\n",
    "# Show the figure\n",
    "plt.show()"
   ]
  },
  {
   "cell_type": "code",
   "execution_count": null,
   "metadata": {},
   "outputs": [],
   "source": [
    "lista = [list(rc.loc[rc['Age_Group'] == age_group, 'Count']) for age_group in list(rc['Age_Group'].unique())]\n",
    "lista"
   ]
  },
  {
   "cell_type": "code",
   "execution_count": null,
   "metadata": {},
   "outputs": [],
   "source": [
    "\n",
    "# Definir os dados\n",
    "age_groups = list(rc['Age_Group'].unique())\n",
    "race_categories = ['100M', '20K', '50K', '100K']\n",
    "percentages = [[0.0, 94.5945945945946, 4.054054054054054, 1.3513513513513513],\n",
    " [1.2012534818941505, 61.35097493036211, 32.01601671309192, 5.43175487465181],\n",
    " [1.8735097081866696, 49.25627341887135, 40.44510048824799, 8.425116384693993],\n",
    " [3.39918419579301, 42.78173238422778, 41.88594737263057, 11.933136047348636],\n",
    " [4.768989172658897, 40.47441937350194, 42.07785767418795, 12.67873377965121],\n",
    " [6.403171552138395, 36.95338779432965, 41.5785679961557, 15.06487265737626],\n",
    " [6.23551716873815, 42.468927743838215, 39.603960396039604, 11.691594691384031],\n",
    " [7.81547845977888, 44.26229508196721, 36.751810903545554, 11.170415554708349],\n",
    " [6.8557919621749415, 45.78408195429472, 35.61859732072498, 11.741528762805359],\n",
    " [5.934065934065933, 45.714285714285715, 40.43956043956044, 7.9120879120879115],\n",
    " [17.72151898734177, 39.24050632911392, 37.9746835443038, 5.063291139240507],\n",
    " [20.0, 20.0, 60.0, 0.0]]\n",
    "\n",
    "count = [[0, 70, 3, 1],\n",
    " [69, 3524, 1839, 312],\n",
    " [165, 4338, 3562, 742],\n",
    " [425, 5349, 5237, 1492],\n",
    " [577, 4897, 5091, 1534],\n",
    " [533, 3076, 3461, 1254],\n",
    " [296, 2016, 1880, 555],\n",
    " [205, 1161, 964, 293],\n",
    " [87, 581, 452, 149],\n",
    " [27, 208, 184, 36],\n",
    " [14, 31, 30, 4],\n",
    " [1, 1, 3, 0]]\n",
    "\n",
    "# Definir as cores gradientes\n",
    "colors = ['#2383c6','#58b6c0','#75bda5','#7a8c8e']\n",
    "\n",
    "# Criar a figura e os eixos\n",
    "fig, ax = plt.subplots(figsize=(10, 6))\n",
    "\n",
    "# Plotar as barras empilhadas\n",
    "bottom = None\n",
    "for i, category in enumerate(race_categories):\n",
    "    percentages_category = [percentages[j][i] for j in range(len(age_groups))]\n",
    "    ax.bar(age_groups, percentages_category, bottom=bottom, color=colors[i], label=category)\n",
    "    if bottom is None:\n",
    "        bottom = percentages_category\n",
    "    else:\n",
    "        bottom = [bottom[j] + percentages_category[j] for j in range(len(age_groups))]\n",
    "\n",
    "# Definir os rótulos e títulos em português\n",
    "ax.set_xlabel('Faixa Etária')\n",
    "ax.set_ylabel('Porcentagem de Corridas (%)')\n",
    "ax.set_title('Distribuição de Corridas por Faixa Etária e Categoria')\n",
    "\n",
    "# Adicionar a legenda\n",
    "ax.legend(title='Categoria de Corrida', loc='center left', bbox_to_anchor=(1.0, 0.5))\n",
    "\n",
    "# Exibir o gráfico\n",
    "plt.show()"
   ]
  },
  {
   "cell_type": "code",
   "execution_count": null,
   "metadata": {},
   "outputs": [],
   "source": []
  }
 ],
 "metadata": {
  "kernelspec": {
   "display_name": ".venv",
   "language": "python",
   "name": "python3"
  },
  "language_info": {
   "codemirror_mode": {
    "name": "ipython",
    "version": 3
   },
   "file_extension": ".py",
   "mimetype": "text/x-python",
   "name": "python",
   "nbconvert_exporter": "python",
   "pygments_lexer": "ipython3",
   "version": "3.11.4"
  }
 },
 "nbformat": 4,
 "nbformat_minor": 2
}

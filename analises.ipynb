{
 "cells": [
  {
   "cell_type": "code",
   "execution_count": null,
   "metadata": {},
   "outputs": [],
   "source": [
    "import pandas as pd\n",
    "import numpy as np\n",
    "import matplotlib.pyplot as plt"
   ]
  },
  {
   "cell_type": "code",
   "execution_count": null,
   "metadata": {},
   "outputs": [],
   "source": [
    "corredores = pd.read_csv('corredores.csv')\n",
    "corridas = pd.read_csv('corridas.csv')\n"
   ]
  },
  {
   "cell_type": "code",
   "execution_count": null,
   "metadata": {},
   "outputs": [],
   "source": [
    "corredores.head()"
   ]
  },
  {
   "cell_type": "code",
   "execution_count": null,
   "metadata": {},
   "outputs": [],
   "source": [
    "corredores_idade = corredores['corredores.ageGroup']\n",
    "tabela_idade = corredores_idade.value_counts()\n",
    "tabela_idade['0-20'] = tabela_idade['U18'] + tabela_idade['U20']\n",
    "tabela_idade = tabela_idade.drop(['U18', 'U20'])\n",
    "tabela_idade = tabela_idade.sort_index()"
   ]
  },
  {
   "cell_type": "code",
   "execution_count": null,
   "metadata": {},
   "outputs": [],
   "source": [
    "azul_claro = '#73BFA7'\n",
    "azul_escuro = '#3494BA'"
   ]
  },
  {
   "cell_type": "code",
   "execution_count": null,
   "metadata": {},
   "outputs": [],
   "source": [
    "tabela_idade.plot(kind='bar', color=azul_escuro, xlabel='Faixa de idade', ylabel='Quantidade de corredores', title='Quantidade de corredores brasileiros por faixa de idade', figsize=(10, 6))\n",
    "plt.show()"
   ]
  },
  {
   "cell_type": "code",
   "execution_count": null,
   "metadata": {},
   "outputs": [],
   "source": [
    "corridas_nao_br = pd.read_csv('corridas_nao_brasileiras.csv')\n",
    "corridas_nao_br.head()"
   ]
  },
  {
   "cell_type": "code",
   "execution_count": null,
   "metadata": {},
   "outputs": [],
   "source": [
    "places = {\n",
    "    \"France\": [\"Besançon\", \"Centuri\", \"Chamonix\", \"Orsières\", \"Martigny-Combe\", \"Courchevel le praz\", \"L'Abbaye\", \"Old Deer Park - Richmond\", \"Beret\", \"San Martin de Castañeda\", \"Les Houches\", \"Escuredo\", \"Colmars-les-Alpes\", \"Les Diablerets\", \"Montreux\", \"Bex\", \"Omegna\", \"Fontainebleau\", \"Chamonix-Mont-Blanc\", \"Courmayeur\", \"Valdo di Fomazza\", \"Radda in Chianti\", \"Ajaccio\", \"Monte\", \"Montaria (viana do Castelo)\", \"Val Cenis\", \"Satão\", \"Fontenais\"],\n",
    "    \"Italy\": [\"Gavirate\", \"Saluzzo\", \"Arco\", \"Grindelwald\", \"Cilaos\", \"Les\", \"Beret\", \"Les Diablerets\", \"Montreux\", \"Bex\", \"Liddes\", \"Colmars-les-Alpes\", \"Le Markstein\", \"Bormio\", \"Besançon\", \"Fontainebleau\", \"Valdo di Fomazza\", \"Ajaccio\", \"Monte\", \"Montaria (viana do Castelo)\", \"Val Cenis\", \"Satão\", \"Fontenais\"],\n",
    "    \"United States\": [\"Page, Arizona\", \"High1 resort\", \"Blairsville\", \"Hatch, Utah\", \"Apple Valley, Utah\", \"Dalton, Georga\", \"Blue Ridge, Ga\", \"Spring Valley, AZ\", \"Natural Chimneys Park\", \"Oxford\", \"Crystal Cascades, Redlynch\", \"Page, Arizona\"],\n",
    "    \"Portugal\": [\"Cape Verde\", \"Abrantes\", \"Melgaço\", \"Terrasse de l'Observatoire de Meudon (92)\", \"Valongo\", \"Coimbra/Lousã\", \"Comuna Torres del Paine\", \"Piau-Engaly\", \"Covilha\", \"Coimbra\", \"Friol\"],\n",
    "    \"Switzerland\": [\"Zermatt\", \"Laax\", \"Engelberg\", \"Arosa\", \"Leukerbad\", \"Kühtai\", \"Samedan\", \"Scuol\", \"Crans-Montana\", \"Rougemont\", \"Nendaz\", \"Bormio\", \"St. Moritz\", \"Mürren\"],\n",
    "    \"Chile\": [\"Puerto Varas\", \"Santiago\", \"Pucon\"],\n",
    "    \"United Kingdom\": [\"Old Deer Park - Richmond\", \"Corfe Castle\", \"London\", \"Hebden Bridge\", \"Wembury\", \"Stoneham\", \"Dundas\", \"Oxford\", \"Arrowtown\", \"Llanberis\", \"Haslemere\", \"Barnstaple\"],\n",
    "    \"Argentina\": [\"San Martin de Castañeda\", \"Villa La Angostura\", \"San Carlos de Bariloche\", \"Buenos Aires\", \"Santiago\", \"San Martín De Los Andes\"],\n",
    "    \"Egypt\": [\"Cairo\"],\n",
    "    \"Morocco\": [\"Fes\"],\n",
    "    \"Germany\": [\"Saarbrücken\"],\n",
    "    \"Spain\": [\"Puerto Varas\", \"San Pedro de Atacama\", \"Puerto Vallarta\", \"San Bartolomé de Tirajana\", \"San Pedro de Atacama\", \"Puerto Vallarta\", \"Puerto Vallarta\", \"Puerto Vallarta\", \"Barcelona\", \"Mallorca\", \"Santiago\", \"Valencia\", \"Barcelona\", \"Valencia\", \"Madrid\", \"Vigo\", \"Catalonia\", \"Andalucia\", \"Tenerife\", \"Canary Islands\", \"Catalonia\", \"Madrid\", \"Canary Islands\", \"Madrid\", \"Tenerife\"],\n",
    "    \"Japan\": [\"Hakuba\", \"Tokyo\", \"Hakuba\", \"Hakuba\", \"Hakuba\", \"Tokyo\", \"Hakuba\", \"Hakuba\", \"Hakuba\"],\n",
    "    \"Jordan\": [\"Wadi Rum City\"],\n",
    "    \"Denmark\": [\"Copenhagen\"],\n",
    "    \"Luxembourg\": [\"Luxembourg City\"],\n",
    "    \"Israel\": [\"Jerusalem\", \"Tel Aviv\"],\n",
    "    \"Sweden\": [\"Stockholm\"],\n",
    "    \"New Zealand\": [\"Queenstown\", \"Rotorua\", \"Auckland\", \"Wellington\", \"Christchurch\", \"Dunedin\"],\n",
    "    \"Ecuador\": [\"Quito\"],\n",
    "    \"Mexico\": [\"Mexico City\", \"Puerto Vallarta\"],\n",
    "    \"Peru\": [\"Lima\"],\n",
    "    \"Canada\": [\"Toronto\", \"Vancouver\", \"Montreal\", \"Calgary\", \"Ottawa\", \"Edmonton\", \"Quebec City\", \"Winnipeg\"],\n",
    "    \"Australia\": [\"Sydney\", \"Melbourne\", \"Brisbane\", \"Perth\", \"Adelaide\", \"Gold Coast\", \"Canberra\", \"Newcastle\", \"Geelong\", \"Hobart\", \"Townsville\", \"Cairns\", \"Darwin\", \"Toowoomba\"],\n",
    "    \"Greece\": [\"Athens\", \"Santorini\", \"Mykonos\", \"Rhodes\", \"Crete\", \"Corfu\", \"Chania\"],\n",
    "    \"Belgium\": [\"Brussels\", \"Bruges\", \"Antwerp\", \"Ghent\", \"Liege\"],\n",
    "    \"Indonesia\": [\"Bali\", \"Jakarta\", \"Yogyakarta\", \"Bandung\", \"Surabaya\", \"Lombok\", \"Makassar\", \"Semarang\", \"Palembang\", \"Malang\"],\n",
    "    \"Slovenia\": [\"Ljubljana\", \"Bled\", \"Maribor\", \"Piran\", \"Kranjska Gora\", \"Ptuj\", \"Portorož\", \"Bohinj\"],\n",
    "    \"South Africa\": [\"Cape Town\", \"Johannesburg\", \"Durban\", \"Pretoria\", \"Port Elizabeth\", \"Bloemfontein\", \"East London\", \"Kimberley\", \"Rustenburg\", \"Nelspruit\"],\n",
    "    \"Namibia\": [\"Windhoek\"],\n",
    "    \"Venezuela\": [\"Caracas\"],\n",
    "    \"Croatia\": [\"Zagreb\", \"Dubrovnik\", \"Split\", \"Zadar\", \"Pula\", \"Rijeka\", \"Sibenik\", \"Varazdin\", \"Osijek\"],\n",
    "    \"China\": [\"Beijing\", \"Shanghai\", \"Xi'an\", \"Guangzhou\", \"Chengdu\", \"Shenzhen\", \"Nanjing\", \"Wuhan\", \"Hangzhou\", \"Chongqing\", \"Suzhou\", \"Shenyang\", \"Harbin\", \"Jinan\", \"Dalian\", \"Zhengzhou\", \"Changsha\", \"Kunming\", \"Nanning\", \"Hefei\", \"Urumqi\", \"Fuzhou\", \"Taiyuan\", \"Nanchang\", \"Guiyang\", \"Xiamen\", \"Hohhot\", \"Lanzhou\", \"Haikou\", \"Hohhot\", \"Xining\", \"Lhasa\"],\n",
    "    \"Cambodia\": [\"Phnom Penh\", \"Siem Reap\", \"Sihanoukville\", \"Battambang\", \"Kampot\", \"Kep\", \"Koh Rong\", \"Koh Kong\", \"Koh Ker\", \"Koh Ta Kiev\", \"Koh Thmei\"],\n",
    "    \"United Arab Emirates\": [\"Dubai\", \"Abu Dhabi\", \"Sharjah\", \"Ajman\", \"Fujairah\", \"Ras Al Khaimah\", \"Umm Al Quwain\"],\n",
    "    \"Mongolia\": [\"Ulaanbaatar\", \"Darkhan\", \"Erdenet\", \"Khovd\", \"Olgii\", \"Choibalsan\", \"Bayankhongor\", \"Arvaikheer\", \"Bulgan\", \"Baruun-Urt\"],\n",
    "    \"Turkey\": [\"Istanbul\", \"Ankara\", \"Izmir\", \"Bursa\", \"Antalya\", \"Adana\", \"Konya\", \"Gaziantep\", \"Diyarbakir\", \"Mersin\", \"Eskisehir\", \"Kayseri\", \"Samsun\", \"Denizli\", \"Sanliurfa\", \"Kahramanmaras\", \"Malatya\", \"Erzurum\", \"Van\", \"Batman\", \"Balikesir\", \"Elazig\", \"Manisa\", \"Sivas\", \"Adapazari\", \"Kirikkale\", \"Osmaniye\", \"Corum\", \"Kutahya\", \"Sirnak\", \"Ceyhan\", \"Agri\"],\n",
    "    \"Costa Rica\": [\"San José\", \"Limon\", \"San Francisco\", \"Heredia\", \"Alajuela\", \"Cartago\", \"Puntarenas\", \"Guanacaste\", \"Sarapiqui\"],\n",
    "    \"Paraguay\": [\"Asuncion\", \"Ciudad del Este\", \"San Lorenzo\", \"Capiata\", \"Lambaré\", \"Fernando de la Mora\", \"Limpio\", \"Encarnacion\", \"Ñemby\", \"Mariano Roque Alonso\"],\n",
    "    \"South Korea\": [\"Seoul\", \"Busan\", \"Incheon\", \"Daegu\", \"Daejeon\", \"Gwangju\", \"Suwon\", \"Ulsan\", \"Changwon\", \"Seongnam\", \"Goyang\", \"Yongin\", \"Seongnam\", \"Bucheon\", \"Cheongju\", \"Ansan\", \"Jeonju\", \"Cheonan\", \"Anyang\", \"Uijeongbu\", \"Gimhae\", \"Pohang\", \"Uiwang\", \"Siheung\", \"Gumi\", \"Gwangmyeong\", \"Gwacheon\", \"Andong\", \"Hwaseong\", \"Iksan\", \"Yeosu\", \"Suncheon\", \"Seosan\"],\n",
    "    \"Colombia\": [\"Bogotá\", \"Medellín\", \"Cali\", \"Barranquilla\", \"Cartagena\", \"Cúcuta\", \"Soledad\", \"Ibague\", \"Bucaramanga\", \"Soacha\", \"Santa Marta\", \"Villavicencio\", \"Bello\", \"Valledupar\", \"Pereira\", \"Montería\", \"Neiva\", \"Pasto\", \"Armenia\", \"Manizales\", \"Itagüí\", \"Sincelejo\", \"Popayán\", \"Barrancabermeja\", \"Dos Quebradas\", \"Tuluá\", \"Envigado\", \"Cartago\", \"Maicao\"],\n",
    "    \"Malaysia\": [\"Kuala Lumpur\", \"George Town\", \"Ipoh\", \"Kuching\", \"Johor Bahru\", \"Kota Kinabalu\", \"Shah Alam\", \"Malacca City\", \"Alor Setar\", \"Mirí\", \"Petaling Jaya\", \"Kuala Terengganu\", \"Sandakan\", \"Seremban\", \"Kuantan\", \"Taiping\", \"Langkawi\", \"Kangar\", \"George Town\", \"Muar\"],\n",
    "    \"Hungary\": [\"Budapest\", \"Debrecen\", \"Szeged\", \"Miskolc\", \"Pécs\", \"Győr\", \"Nyíregyháza\", \"Kecskemét\", \"Székesfehérvár\", \"Szombathely\", \"Szolnok\", \"Tatabánya\", \"Kaposvár\", \"Érd\", \"Veszprém\", \"Békéscsaba\", \"Zalaegerszeg\", \"Sopron\", \"Eger\", \"Nagykanizsa\", \"Dunaújváros\", \"Hódmezővásárhely\", \"Salgótarján\", \"Cegléd\", \"Baja\", \"Orosháza\", \"Dunakeszi\", \"Szigetszentmiklós\", \"Esztergom\", \"Százhalombatta\", \"Mosonmagyaróvár\", \"Gödöllő\", \"Ajka\", \"Vác\", \"Kiskunfélegyháza\", \"Siófok\", \"Hajdúböszörmény\", \"Kiskunhalas\", \"Hatvan\", \"Békés\", \"Szentes\", \"Esztergom\", \"Celldömölk\", \"Várpalota\", \"Gyöngyös\", \"Tata\", \"Pápa\", \"Fót\", \"Szarvas\", \"Gyula\", \"Sárbogárd\", \"Keszthely\", \"Balassagyarmat\", \"Budaörs\", \"Tapolca\", \"Balmazújváros\", \"Mezőkövesd\", \"Mohács\", \"Sümeg\", \"Kerepestarcsa\", \"Jászberény\", \"Kiskőrös\", \"Berettyóújfalu\", \"Paks\", \"Szentendre\", \"Tiszavasvári\", \"Komló\", \"Szentgotthárd\", \"Monor\", \"Dombóvár\", \"Oroszlány\", \"Vecsés\", \"Budaörs\", \"Orosháza\", \"Békéscsaba\", \"Pécs\", \"Békéscsaba\", \"Pécs\", \"Eger\", \"Nagykanizsa\", \"Dunaújváros\", \"Hódmezővásárhely\", \"Salgótarján\", \"Cegléd\", \"Baja\", \"Orosháza\", \"Dunakeszi\", \"Szigetszentmiklós\", \"Esztergom\", \"Százhalombatta\", \"Mosonmagyaróvár\", \"Gödöllő\", \"Ajka\", \"Vác\", \"Kiskunfélegyháza\", \"Siófok\", \"Hajdúböszörmény\", \"Kiskunhalas\", \"Hatvan\", \"Békés\", \"Szentes\", \"Celldömölk\", \"Várpalota\", \"Gyöngyös\", \"Tata\", \"Pápa\", \"Fót\", \"Szarvas\", \"Gyula\", \"Sárbogárd\", \"Keszthely\", \"Balassagyarmat\", \"Budaörs\", \"Tapolca\", \"Balmazújváros\", \"Mezőkövesd\", \"Mohács\", \"Sümeg\", \"Kerepestarcsa\", \"Jászberény\", \"Kiskőrös\", \"Berettyóújfalu\", \"Paks\", \"Szentendre\", \"Tiszavasvári\", \"Komló\", \"Szentgotthárd\", \"Monor\", \"Dombóvár\", \"Oroszlány\", \"Vecsés\", \"Karcag\", \"Göd\", \"Csongrád\", \"Bátaszék\", \"Gyömrő\", \"Kalocsa\", \"Nagyatád\", \"Szécsény\", \"Pomáz\", \"Hajdúszoboszló\", \"Budaörs\", \"Tapolca\", \"Balmazújváros\", \"Mezőkövesd\", \"Mohács\", \"Sümeg\", \"Kerepestarcsa\", \"Jászberény\", \"Kiskőrös\", \"Berettyóújfalu\", \"Paks\", \"Szentendre\", \"Tiszavasvári\", \"Komló\", \"Szentgotthárd\", \"Monor\", \"Dombóvár\", \"Oroszlány\", \"Vecsés\", \"Karcag\", \"Göd\", \"Csongrád\", \"Bátaszék\", \"Gyömrő\", \"Kalocsa\", \"Nagyatád\", \"Szécsény\", \"Pomáz\", \"Hajdúszoboszló\"],\n",
    "    \"Bulgaria\": [\"Sofia\", \"Plovdiv\", \"Varna\", \"Burgas\", \"Ruse\", \"Stara Zagora\", \"Pleven\", \"Sliven\", \"Dobrich\", \"Shumen\", \"Pernik\", \"Yambol\", \"Haskovo\", \"Blagoevgrad\", \"Veliko Tarnovo\", \"Gabrovo\", \"Vratsa\", \"Asenovgrad\", \"Kazanlak\", \"Kyustendil\", \"Pazardzhik\", \"Gorna Oryahovitsa\", \"Petrich\", \"Montana\", \"Lovech\", \"Silistra\", \"Targovishte\", \"Novi Iskar\", \"Svilengrad\", \"Samokov\", \"Dupnitsa\", \"Popovo\", \"Rakovski\", \"Velingrad\", \"Karnobat\", \"Botevgrad\", \"Gotse Delchev\", \"Berkovitsa\", \"Nova Zagora\", \"Cherven Bryag\", \"Parvomay\", \"Radomir\", \"Peshtera\", \"Harmanli\", \"Pomorie\", \"Bansko\", \"Knezha\", \"Razgrad\", \"Svoge\", \"Sredets\", \"Aytos\", \"Teteven\", \"Sozopol\", \"Pirdop\", \"Chirpan\", \"Panagyurishte\", \"Nesebar\", \"Sevlievo\", \"Kostenets\", \"Etropole\", \"Kotel\", \"Tutrakan\", \"Lukovit\", \"Byala Slatina\", \"Rakovski\", \"Levski\", \"Tryavna\", \"Krichim\", \"Dryanovo\", \"Balchik\", \"Omurtag\", \"Vetovo\", \"Belene\", \"Dolni Chiflik\", \"Rakitovo\", \"Kavarna\", \"Tervel\", \"Kostenets\", \"Isperih\", \"Strazhitsa\", \"Tsarevo\", \"Simitli\", \"Dalgopol\", \"Kula\", \"Mezdra\", \"Elin Pelin\", \"Bregovo\", \"Krumovgrad\", \"Elhovo\", \"Valchedram\", \"Simeonovgrad\", \"Sapareva Banya\", \"Belogradchik\", \"Momchilgrad\", \"Letnitsa\", \"Ivaylovgrad\", \"Koprivshtitsa\", \"Svoge\", \"Dolna Oryahovitsa\", \"Pavel Banya\", \"Sarnitsa\", \"Strumyani\", \"Koynare\", \"Dolni Dabnik\", \"Godech\", \"Valchi Dol\", \"Kotel\", \"Septemvri\", \"Chelopech\", \"Belitsa\", \"Klisura\", \"Tsar Kaloyan\", \"Nedelino\", \"Beloslav\", \"Glodzhevo\", \"Krivodol\", \"Vurshets\", \"Zlatitsa\", \"Kuklen\", \"Gulyantsi\", \"Dolna Mitropolia\", \"Dolna Banya\", \"Valchi Dol\", \"Tsarevo\", \"Godech\", \"Kotel\", \"Septemvri\", \"Chelopech\", \"Belitsa\", \"Klisura\", \"Tsar Kaloyan\", \"Nedelino\", \"Beloslav\", \"Glodzhevo\", \"Krivodol\", \"Vurshets\", \"Zlatitsa\", \"Kuklen\", \"Gulyantsi\", \"Dolna Mitropolia\", \"Dolna Banya\", \"Balgarovo\", \"Pomorie\", \"Bobov Dol\", \"Razlog\", \"Pordim\", \"Chavdar\", \"Zlatograd\", \"Krichim\", \"Varshets\", \"Dospat\", \"Suvorovo\", \"Batak\", \"Klisura\", \"Valchi Dol\", \"Dolna Mitropolia\", \"Dolna Banya\", \"Balgarovo\", \"Pomorie\", \"Bobov Dol\", \"Razlog\", \"Pordim\", \"Chavdar\", \"Zlatograd\", \"Krichim\", \"Varshets\", \"Dospat\", \"Suvorovo\", \"Batak\", \"Klisura\", \"Valchi Dol\", \"Dolna Mitropolia\", \"Dolna Banya\", \"Balgarovo\", \"Pomorie\", \"Bobov Dol\", \"Razlog\", \"Pordim\", \"Chavdar\", \"Zlatograd\", \"Krichim\", \"Varshets\", \"Dospat\", \"Suvorovo\", \"Batak\", \"Klisura\", \"Valchi Dol\", \"Dolna Mitropolia\", \"Dolna Banya\", \"Balgarovo\", \"Pomorie\", \"Bobov Dol\", \"Razlog\", \"Pordim\", \"Chavdar\", \"Zlatograd\", \"Krichim\", \"Varshets\", \"Dospat\", \"Suvorovo\", \"Batak\", \"Klisura\", \"Valchi Dol\", \"Dolna Mitropolia\", \"Dolna Banya\", \"Balgarovo\", \"Pomorie\", \"Bobov Dol\", \"Razlog\", \"Pordim\", \"Chavdar\", \"Zlatograd\", \"Krichim\", \"Varshets\", \"Dospat\", \"Suvorovo\", \"Batak\", \"Klisura\", \"Valchi Dol\", \"Dolna Mitropolia\", \"Dolna Banya\", \"Balgarovo\", \"Pomorie\", \"Bobov Dol\", \"Razlog\", \"Pordim\", \"Chavdar\", \"Zlatograd\", \"Krichim\", \"Varshets\", \"Dospat\", \"Suvorovo\", \"Batak\", \"Klisura\", \"Valchi Dol\", \"Dolna Mitropolia\", \"Dolna Banya\", \"Balgarovo\", \"Pomorie\", \"Bobov Dol\", \"Razlog\", \"Pordim\", \"Chavdar\", \"Zlatograd\", \"Krichim\", \"Varshets\", \"Dospat\", \"Suvorovo\", \"Batak\", \"Klisura\", \"Valchi Dol\", \"Dolna Mitropolia\", \"Dolna Banya\", \"Balgarovo\", \"Pomorie\", \"Bobov Dol\", \"Razlog\", \"Pordim\", \"Chavdar\", \"Zlatograd\", \"Krichim\", \"Varshets\", \"Dospat\", \"Suvorovo\", \"Batak\", \"Klisura\", \"Valchi Dol\", \"Dolna Mitropolia\", \"Dolna Banya\", \"Balgarovo\", \"Pomorie\", \"Bobov Dol\", \"Razlog\", \"Pordim\", \"Chavdar\", \"Zlatograd\", \"Krichim\", \"Varshets\", \"Dospat\", \"Suvorovo\", \"Batak\", \"Klisura\", \"Valchi Dol\", \"Dolna Mitropolia\", \"Dolna Banya\", \"Balgarovo\", \"Pomorie\", \"Bobov Dol\", \"Razlog\", \"Pordim\", \"Chavdar\", \"Zlatograd\", \"Krichim\", \"Varshets\", \"Dospat\", \"Suvorovo\", \"Batak\", \"Klisura\", \"Valchi Dol\", \"Dolna Mitropolia\", \"Dolna Banya\", \"Balgarovo\", \"Pomorie\", \"Bobov Dol\", \"Razlog\", \"Pordim\", \"Chavdar\", \"Zlatograd\", \"Krichim\", \"Varshets\", \"Dospat\", \"Suvorovo\", \"Batak\", \"Klisura\", \"Valchi Dol\", \"Dolna Mitropolia\", \"Dolna Banya\", \"Balgarovo\", \"Pomorie\", \"Bobov Dol\", \"Razlog\", \"Pordim\", \"Chavdar\", \"Zlatograd\", \"Krichim\", \"Varshets\", \"Dospat\", \"Suvorovo\", \"Batak\", \"Klisura\", \"Valchi Dol\", \"Dolna Mitropolia\", \"Dolna Banya\", \"Balgarovo\", \"Pomorie\", \"Bobov Dol\", \"Razlog\", \"Pordim\", \"Chavdar\", \"Zlatograd\", \"Krichim\", \"Varshets\", \"Dospat\", \"Suvorovo\", \"Batak\", \"Klisura\", \"Valchi Dol\", \"Dolna Mitropolia\", \"Dolna Banya\", \"Balgarovo\", \"Pomorie\", \"Bobov Dol\", \"Razlog\", \"Pordim\", \"Chavdar\", \"Zlatograd\", \"Krichim\", \"Varshets\", \"Dospat\"]}\n",
    "\n",
    "cities = {\n",
    "    \"China\": [\"Hong Kong\"],\n",
    "    \"Argentina\": [\"San Martin De Los Andes\", \"Santa Cita - Tomar\", \"Villa la Angostura\", \"SAN CARLOS DE BARILOCHE\", \"San Martin de Casta�eda\"],\n",
    "    \"Portugal\": [\"Sever do Vouga\", \"Penacova\", \"Estoi\", \"Arouca\", \"Coimbra/Lous�\", \"Condeixa-A-Nova\", \"Dem (Caminha)\", \"Entre-ambos-os-Rios, Ponte da Barca\", \"Ferreira do Z�zere\", \"Melga�o\", \"Miranda do Corvo\", \"Portalegre\", \"Santa Marta de Penagui�o\", \"Seia\", \"Sintra\", \"Monterreal Coahuila\"],\n",
    "    \"Italy\": [\"Corte\", \"Cortina d'Ampezzo\", \"Ordino\", \"Orsi�res\", \"Val di Zoldo\", \"Pit�es das J�nias\"],\n",
    "    \"France\": [\"LYON\", \"Corte\", \"La Roche-en-Ardenne\", \"MORZINE\", \"La Thuile\", \"Sagres\", \"Samo�ns\", \"St-Ferr�ol-les-Neiges\", \"Claret\", \"S�tila\", \"Tignes\", \"Talloires\", \"Roubion\", \"Rouffach\", \"Font-Romeu-Odeillo-Via\"],\n",
    "    \"Spain\": [\"Vielha\", \"Valencia\", \"Pu Luong, Thanh Hoa\", \"Los Penitentes, Mendoza\", \"Pucon\", \"Villa Yacanto de Calamuchita\", \"Pucon\", \"Villa Yacanto de Calamuchita\", \"Villa Yacanto de Calamuchita\", \"Pucon\", \"Villa Yacanto de Calamuchita\", \"Pucon\", \"Villa Yacanto de Calamuchita\", \"Pucon\", \"Villa Yacanto de Calamuchita\", \"Villa Yacanto de Calamuchita\", \"Santa Marta de Penagui�o\", \"Huacawasi\", \"Huar�n\", \"Gondomar\", \"Itatiaia/ Rio de Janeiro\", \"Amares\", \"Barr\", \"Borriol\", \"Llaganuco\", \"Santiago do Cac�m\", \"S�o Paulo\", \"Seogwipo\", \"Sot de Chera\"],\n",
    "    \"Australia\": [\"Auburn\", \"KCC Oval, Katoomba\", \"The Gap\", \"The Village of Big Bear Lake\", \"KCC Oval Katoomba\", \"Katoomba\", \"Explorers Tree, Katoomba\", \"Scenic World, Katoomba\", \"Spring Valley\"],\n",
    "    \"Switzerland\": [\"Val d'Is�re\", \"Champ�ry\", \"Verbier\", \"Lausanne\", \"Aarau\", \"Ri�inahue\"],\n",
    "    \"Taiwan\": [\"Chinese Taipei\"],\n",
    "    \"Romania\": [\"Romania\"],\n",
    "    \"Mexico\": [\"Ciudad de M�xico\", \"San Javier , Traslasierra\"],\n",
    "    \"Belgium\": [\"Aalst\", \"Oudergem\", \"Uccle\"],\n",
    "    \"Canada\": [\"Quebec\", \"Ordino\"],\n",
    "    \"United States\": [\"Los Angeles\", \"Bellingham\", \"Dalton\", \"Glencullen\", \"Glencullen\"],\n",
    "    \"Sweden\": [\"G�teborg\", \"Simrishamn\"],\n",
    "    \"New Zealand\": [\"The Gap\", \"Blue Lake\"],\n",
    "    \"Germany\": [\"Houffalize\", \"Saarbr�cken\"],\n",
    "    \"Morocco\": [\"Ouarzazate\"],\n",
    "    \"Vietnam\": [\"Pu Luong, Thanh Hoa\", \"Moc Chau, Son La\"],\n",
    "    \"South Africa\": [\"Franschhoek\", \"Kabouga Gate, Addo Elephant National Park\", \"Tyneham\"],\n",
    "    \"Chile\": [\"pucon\", \"Valpara�so\", \"Pichilemu\", \"Pichilemu\"],\n",
    "    \"United Kingdom\": [\"Bobbin Head\", \"Delfim Moreira\", \"Farnham\", \"Norton, Virginia\", \"Oxford\"],\n",
    "    \"Brazil\": [\"Huacawasi\", \"Huar�n\", \"Gondomar\", \"Itatiaia/ Rio de Janeiro\", \"Amares\", \"Barr\", \"Borriol\", \"Llaganuco\", \"Santiago do Cac�m\", \"S�o Paulo\"],\n",
    "    \"Philippines\": [\"Manila\"],\n",
    "    \"Japan\": [\"Matsuzaki\", \"Lake Tikitapu (Blue Lake) Reserve\", \"Kawerau\", \"Munster\"],\n",
    "    \"Peru\": [\"Santiago da Guarda\", \"Santiago do Cac�m\"],\n",
    "    \"Ireland\": [\"Dalton\", \"Glencullen\", \"Glencullen\", \"Dalton\"],\n",
    "    \"Austria\": [\"Salzburg\", \"Innsbruck\"],\n",
    "    \"Norway\": [\"Oslo\", \"Lom\"],\n",
    "    \"Poland\": [\"GDANSK\", \"Krakow\", \"Zakopane\"],\n",
    "    \"Indonesia\": [\"Kintamani, Bangli, Bali\"],\n",
    "    \"Bolivia\": [\"pucon\", \"Valpara�so\", \"Pichilemu\", \"Pichilemu\"],\n",
    "    \"Swaziland\": [\"Snowbird Center Plaza Area\"],\n",
    "    \"Denmark\": [\"Copenhagen\", \"Copenhagen\"],\n",
    "    \"Czech Republic\": [\"Houffalize\", \"Saarbr�cken\"],\n",
    "    \"Greece\": [\"Fiames/Cortina\", \"Finhaut\", \"Cogne\", \"Sot de Chera\"],\n",
    "    \"Mali\": [\"Boulevard de l'Europe, Dunkerque\"],\n",
    "    \"Croatia\": [\"gavirate\", \"Orsera\", \"Rovinj\", \"Dubrovnik\", \"Pula\", \"Porec\", \"Cavtat\"],\n",
    "    \"Iceland\": [\"Snowbird Center Plaza Area\"],\n",
    "    \"Netherlands\": [\"Amsterdam\", \"Rotterdam\", \"Utrecht\", \"The Hague\", \"Eindhoven\"],\n",
    "    \"Russia\": [\"Moscow\", \"St. Petersburg\", \"Sochi\", \"Kazan\", \"Yekaterinburg\"],\n",
    "    \"Turkey\": [\"Istanbul\", \"Antalya\", \"Ankara\", \"Izmir\", \"Bursa\"],\n",
    "    \"Bangladesh\": [\"Dhaka\", \"Chittagong\", \"Khulna\", \"Rajshahi\", \"Sylhet\"],\n",
    "    \"Pakistan\": [\"Karachi\", \"Lahore\", \"Faisalabad\", \"Rawalpindi\", \"Multan\"],\n",
    "    \"Sri Lanka\": [\"Colombo\", \"Gampaha\", \"Kandy\", \"Jaffna\", \"Negombo\"],\n",
    "    \"Afghanistan\": [\"Kabul\", \"Kandahar\", \"Herat\", \"Mazar-i-Sharif\", \"Kunduz\"],\n",
    "    \"Iraq\": [\"Baghdad\", \"Basra\", \"Sulaymaniyah\", \"Erbil\", \"Mosul\"],\n",
    "    \"Iran\": [\"Tehran\", \"Mashhad\", \"Isfahan\", \"Karaj\", \"Tabriz\"],\n",
    "    \"Syria\": [\"Damascus\", \"Aleppo\", \"Homs\", \"Hama\", \"Latakia\"],\n",
    "    \"Yemen\": [\"Sana'a\", \"Aden\", \"Taiz\", \"Hodeidah\", \"Ibb\"],\n",
    "    \"Israel\": [\"Jerusalem\", \"Tel Aviv\", \"Haifa\", \"Rishon LeZion\", \"Petah Tikva\"],\n",
    "    \"Jordan\": [\"Amman\", \"Zarqa\", \"Irbid\", \"Salt\", \"Madaba\"],\n",
    "    \"Saudi Arabia\": [\"Riyadh\", \"Jeddah\", \"Mecca\", \"Medina\", \"Dammam\"],\n",
    "    \"Kuwait\": [\"Kuwait City\", \"Al Ahmadi\", \"Hawalli\", \"Farwaniya\", \"Mubarak Al-Kabeer\"],\n",
    "    \"United Arab Emirates\": [\"Dubai\", \"Abu Dhabi\", \"Sharjah\", \"Al Ain\", \"Ajman\"],\n",
    "    \"Qatar\": [\"Doha\", \"Al Rayyan\", \"Umm Salal\", \"Al Wakrah\", \"Al Khor\"],\n",
    "    \"Oman\": [\"Muscat\", \"Seeb\", \"Salalah\", \"Bawshar\", \"Sohar\"],\n",
    "    \"Bahrain\": [\"Manama\", \"Al Muharraq\", \"Ar Rifa\", \"Dar Kulayb\", \"Madīnat Ḩamad\"],\n",
    "    \"Lebanon\": [\"Beirut\", \"Tripoli\", \"Sidon\", \"Tyre\", \"Byblos\"],\n",
    "    \"Cyprus\": [\"Nicosia\", \"Limassol\", \"Larnaca\", \"Famagusta\", \"Paphos\"],\n",
    "    \"Palestine\": [\"Jerusalem\", \"Gaza City\", \"Hebron\", \"Nablus\", \"Rafah\"],\n",
    "    \"India\": [\"New Delhi\", \"Mumbai\", \"Bangalore\", \"Kolkata\", \"Chennai\"],\n",
    "    \"Nepal\": [\"Kathmandu\", \"Pokhara\", \"Patan\", \"Biratnagar\", \"Bharatpur\"],\n",
    "    \"Bhutan\": [\"Thimphu\", \"Phuntsholing\", \"Punakha\", \"Paro\", \"Jakar\"],\n",
    "    \"Bangladesh\": [\"Dhaka\", \"Chittagong\", \"Khulna\", \"Rajshahi\", \"Sylhet\"],\n",
    "    \"Maldives\": [\"Male\", \"Addu City\", \"Fuvahmulah\", \"Hithadhoo\", \"Kulhudhuffushi\"],\n",
    "    \"Sri Lanka\": [\"Colombo\", \"Gampaha\", \"Kandy\", \"Jaffna\", \"Negombo\"],\n",
    "    \"Egypt\": [],\n",
    "    'Luxembourg': ['Luxembourg City'],\n",
    "    'Ecuador' : [],\n",
    "    'Slovenia' : []\n",
    "}\n"
   ]
  },
  {
   "cell_type": "code",
   "execution_count": null,
   "metadata": {},
   "outputs": [],
   "source": [
    "def remove_repeticao(dict):\n",
    "    for key, cidades in dict.items():\n",
    "        sem_repet = []\n",
    "        for cidade in cidades:\n",
    "            if cidade not in sem_repet:\n",
    "                sem_repet.append(cidade)\n",
    "        dict[key] = sem_repet\n",
    "    return dict"
   ]
  },
  {
   "cell_type": "code",
   "execution_count": null,
   "metadata": {},
   "outputs": [],
   "source": [
    "for country, city in places.items():\n",
    "    if country not in cities.keys():\n",
    "        cities[country] = city\n",
    "    else:\n",
    "        cities[country] += city"
   ]
  },
  {
   "cell_type": "code",
   "execution_count": null,
   "metadata": {},
   "outputs": [],
   "source": [
    "cities = remove_repeticao(cities)"
   ]
  },
  {
   "cell_type": "code",
   "execution_count": null,
   "metadata": {},
   "outputs": [],
   "source": [
    "for country, cities in cities.items():\n",
    "    corridas_nao_br['City / Country'].replace(cities, country, inplace=True)"
   ]
  },
  {
   "cell_type": "code",
   "execution_count": null,
   "metadata": {},
   "outputs": [],
   "source": [
    "corridas_nao_br['City / Country'].value_counts()"
   ]
  },
  {
   "cell_type": "code",
   "execution_count": null,
   "metadata": {},
   "outputs": [],
   "source": [
    "corridas_nao_br['City / Country'].value_counts(normalize=True).head(10).plot(kind='bar', color=azul_claro, xlabel='País', ylabel='Quantidade de corridas', title='Quantidade de corridas por país', figsize=(10, 6))\n",
    "plt.show()"
   ]
  },
  {
   "cell_type": "markdown",
   "metadata": {},
   "source": [
    "##   Corredores ativos (que correram nos últimos 3 meses) por faixa de idade"
   ]
  },
  {
   "cell_type": "code",
   "execution_count": null,
   "metadata": {},
   "outputs": [],
   "source": [
    "corredores_ativos = pd.read_csv('corredores_ativos.csv')"
   ]
  },
  {
   "cell_type": "code",
   "execution_count": null,
   "metadata": {},
   "outputs": [],
   "source": [
    "corredores_ativos_idade = corredores_ativos['corredores.ageGroup']\n",
    "tabela_idade_ca = corredores_ativos_idade.value_counts()\n",
    "tabela_idade_ca['0-20'] = tabela_idade_ca['U18'] + tabela_idade_ca['U20']\n",
    "tabela_idade_ca = tabela_idade_ca.drop(['U18', 'U20'])\n",
    "tabela_idade_ca = tabela_idade_ca.sort_index()"
   ]
  },
  {
   "cell_type": "code",
   "execution_count": null,
   "metadata": {},
   "outputs": [],
   "source": [
    "tabela_idade_ca.plot(kind='bar', color=azul_escuro, xlabel='Faixa de idade', ylabel='Quantidade de corredores', title='Quantidade de corredores brasileiros ativos por faixa de idade', figsize=(10, 6))\n",
    "plt.show()"
   ]
  },
  {
   "cell_type": "markdown",
   "metadata": {},
   "source": [
    "##   Corredores ativos (que correram nos últimos 3 meses) por sexo"
   ]
  },
  {
   "cell_type": "code",
   "execution_count": null,
   "metadata": {},
   "outputs": [],
   "source": [
    "corredores_ativos_sexo = corredores_ativos['corredores.sex']\n",
    "corredores_ativos_sexo\n",
    "contagem_sexo = corredores_ativos_sexo.value_counts()\n",
    "\n",
    "contagem_sexo"
   ]
  },
  {
   "cell_type": "code",
   "execution_count": null,
   "metadata": {},
   "outputs": [],
   "source": [
    "cores = [azul_escuro, 'pink'] \n",
    "contagem_sexo.plot(kind='barh', color=cores)\n",
    "plt.title('Corredores Ativos por Sexo')\n",
    "plt.xlabel('Número de Corredores')\n",
    "plt.ylabel('Sexo')\n",
    "plt.xticks(rotation=0)\n",
    "plt.show()"
   ]
  },
  {
   "cell_type": "code",
   "execution_count": null,
   "metadata": {},
   "outputs": [],
   "source": [
    "plt.figure(figsize=(8, 6))\n",
    "cores = [azul_escuro, 'pink']  \n",
    "plt.pie(contagem_sexo, labels=contagem_sexo.index, colors=cores, autopct='%1.1f%%', startangle=90)\n",
    "plt.title('Corredores Ativos por Sexo')\n",
    "plt.axis('equal') \n",
    "plt.show()"
   ]
  }
 ],
 "metadata": {
  "kernelspec": {
   "display_name": ".venv",
   "language": "python",
   "name": "python3"
  },
  "language_info": {
   "codemirror_mode": {
    "name": "ipython",
    "version": 3
   },
   "file_extension": ".py",
   "mimetype": "text/x-python",
   "name": "python",
   "nbconvert_exporter": "python",
   "pygments_lexer": "ipython3",
   "version": "3.9.13"
  }
 },
 "nbformat": 4,
 "nbformat_minor": 2
}
